{
 "cells": [
  {
   "cell_type": "code",
   "execution_count": 14,
   "metadata": {},
   "outputs": [
    {
     "name": "stdout",
     "output_type": "stream",
     "text": [
      "Done\n"
     ]
    }
   ],
   "source": [
    "import sys \n",
    "import cv2\n",
    "import os\n",
    "import glob\n",
    "import re\n",
    "\n",
    "def extract_angle(fn):\n",
    "    num = re.search(r'\\-?([\\d]+)\\.(\\d*)', fn)\n",
    "    return float(num.group(0))\n",
    "\n",
    "dirpath = '../outputs/debug/simple_mmapsbsdf_angle'\n",
    "outname = os.path.join(dirpath, 'out.mp4') \n",
    "\n",
    "img_filenames = glob.glob(dirpath + '/*.jpg')\n",
    "img_filenames = sorted(img_filenames, key=extract_angle)\n",
    "img0 = cv2.imread(img_filenames[0])\n",
    "\n",
    "fourcc = cv2.VideoWriter_fourcc('m', 'p', '4', 'v')\n",
    "video = cv2.VideoWriter(outname, fourcc, 20.0, img0.shape[:2])\n",
    "\n",
    "if not video.isOpened():\n",
    "    print(\"Video isn't opened\")\n",
    "    sys.exit()\n",
    "\n",
    "for fn in img_filenames:\n",
    "    img = cv2.imread(fn)\n",
    "    \n",
    "    # Check if img is existed\n",
    "    if img is None:\n",
    "        print(\"img {} is not existed\")\n",
    "        break\n",
    "    \n",
    "    video.write(img)\n",
    "\n",
    "video.release()\n",
    "print('Done')"
   ]
  },
  {
   "cell_type": "code",
   "execution_count": 1,
   "metadata": {},
   "outputs": [
    {
     "name": "stdout",
     "output_type": "stream",
     "text": [
      "['../outputs/debug/simple_mmaps_angle/angle3.33.jpg', '../outputs/debug/simple_mmaps_angle/angle-3.67.jpg', '../outputs/debug/simple_mmaps_angle/angle8.33.jpg', '../outputs/debug/simple_mmaps_angle/angle6.67.jpg', '../outputs/debug/simple_mmaps_angle/angle5.00.jpg', '../outputs/debug/simple_mmaps_angle/angle-1.67.jpg', '../outputs/debug/simple_mmaps_angle/angle-11.00.jpg', '../outputs/debug/simple_mmaps_angle/angle13.33.jpg', '../outputs/debug/simple_mmaps_angle/angle7.00.jpg', '../outputs/debug/simple_mmaps_angle/angle1.67.jpg', '../outputs/debug/simple_mmaps_angle/angle-7.33.jpg', '../outputs/debug/simple_mmaps_angle/angle13.67.jpg', '../outputs/debug/simple_mmaps_angle/angle-7.67.jpg', '../outputs/debug/simple_mmaps_angle/angle-8.67.jpg', '../outputs/debug/simple_mmaps_angle/angle-5.33.jpg', '../outputs/debug/simple_mmaps_angle/angle-6.33.jpg', '../outputs/debug/simple_mmaps_angle/angle4.00.jpg', '../outputs/debug/simple_mmaps_angle/angle-1.33.jpg', '../outputs/debug/simple_mmaps_angle/angle5.67.jpg', '../outputs/debug/simple_mmaps_angle/angle11.33.jpg', '../outputs/debug/simple_mmaps_angle/angle0.00.jpg', '../outputs/debug/simple_mmaps_angle/angle-12.33.jpg', '../outputs/debug/simple_mmaps_angle/angle-13.67.jpg', '../outputs/debug/simple_mmaps_angle/angle-9.33.jpg', '../outputs/debug/simple_mmaps_angle/angle-4.33.jpg', '../outputs/debug/simple_mmaps_angle/angle9.67.jpg', '../outputs/debug/simple_mmaps_angle/angle14.67.jpg', '../outputs/debug/simple_mmaps_angle/angle-6.00.jpg', '../outputs/debug/simple_mmaps_angle/angle-10.67.jpg', '../outputs/debug/simple_mmaps_angle/angle1.00.jpg', '../outputs/debug/simple_mmaps_angle/angle-5.00.jpg', '../outputs/debug/simple_mmaps_angle/angle13.00.jpg', '../outputs/debug/simple_mmaps_angle/angle1.33.jpg', '../outputs/debug/simple_mmaps_angle/angle-9.67.jpg', '../outputs/debug/simple_mmaps_angle/angle-14.00.jpg', '../outputs/debug/simple_mmaps_angle/angle0.33.jpg', '../outputs/debug/simple_mmaps_angle/angle-4.00.jpg', '../outputs/debug/simple_mmaps_angle/angle-10.33.jpg', '../outputs/debug/simple_mmaps_angle/angle11.00.jpg', '../outputs/debug/simple_mmaps_angle/angle7.33.jpg', '../outputs/debug/simple_mmaps_angle/angle8.67.jpg', '../outputs/debug/simple_mmaps_angle/angle-3.00.jpg', '../outputs/debug/simple_mmaps_angle/angle-2.33.jpg', '../outputs/debug/simple_mmaps_angle/angle3.67.jpg', '../outputs/debug/simple_mmaps_angle/angle14.33.jpg', '../outputs/debug/simple_mmaps_angle/angle6.33.jpg', '../outputs/debug/simple_mmaps_angle/angle-1.00.jpg', '../outputs/debug/simple_mmaps_angle/angle-0.67.jpg', '../outputs/debug/simple_mmaps_angle/angle5.33.jpg', '../outputs/debug/simple_mmaps_angle/angle6.00.jpg', '../outputs/debug/simple_mmaps_angle/angle-9.00.jpg', '../outputs/debug/simple_mmaps_angle/angle-3.33.jpg', '../outputs/debug/simple_mmaps_angle/angle11.67.jpg', '../outputs/debug/simple_mmaps_angle/angle-10.00.jpg', '../outputs/debug/simple_mmaps_angle/angle14.00.jpg', '../outputs/debug/simple_mmaps_angle/angle9.33.jpg', '../outputs/debug/simple_mmaps_angle/angle10.33.jpg', '../outputs/debug/simple_mmaps_angle/angle-14.67.jpg', '../outputs/debug/simple_mmaps_angle/angle-13.00.jpg', '../outputs/debug/simple_mmaps_angle/angle2.33.jpg', '../outputs/debug/simple_mmaps_angle/angle-13.33.jpg', '../outputs/debug/simple_mmaps_angle/angle4.67.jpg', '../outputs/debug/simple_mmaps_angle/angle4.33.jpg', '../outputs/debug/simple_mmaps_angle/angle8.00.jpg', '../outputs/debug/simple_mmaps_angle/angle-8.00.jpg', '../outputs/debug/simple_mmaps_angle/angle-8.33.jpg', '../outputs/debug/simple_mmaps_angle/angle-5.67.jpg', '../outputs/debug/simple_mmaps_angle/angle-0.33.jpg', '../outputs/debug/simple_mmaps_angle/angle-12.67.jpg', '../outputs/debug/simple_mmaps_angle/angle3.00.jpg', '../outputs/debug/simple_mmaps_angle/angle2.67.jpg', '../outputs/debug/simple_mmaps_angle/angle-11.33.jpg', '../outputs/debug/simple_mmaps_angle/angle-14.33.jpg', '../outputs/debug/simple_mmaps_angle/angle-7.00.jpg', '../outputs/debug/simple_mmaps_angle/angle-4.67.jpg', '../outputs/debug/simple_mmaps_angle/angle12.00.jpg', '../outputs/debug/simple_mmaps_angle/angle-2.00.jpg', '../outputs/debug/simple_mmaps_angle/angle0.67.jpg', '../outputs/debug/simple_mmaps_angle/angle-11.67.jpg', '../outputs/debug/simple_mmaps_angle/angle-6.67.jpg', '../outputs/debug/simple_mmaps_angle/angle-12.00.jpg', '../outputs/debug/simple_mmaps_angle/angle-2.67.jpg', '../outputs/debug/simple_mmaps_angle/angle12.33.jpg', '../outputs/debug/simple_mmaps_angle/angle12.67.jpg', '../outputs/debug/simple_mmaps_angle/angle10.00.jpg', '../outputs/debug/simple_mmaps_angle/angle7.67.jpg', '../outputs/debug/simple_mmaps_angle/angle-15.00.jpg', '../outputs/debug/simple_mmaps_angle/angle2.00.jpg', '../outputs/debug/simple_mmaps_angle/angle10.67.jpg', '../outputs/debug/simple_mmaps_angle/angle9.00.jpg']\n"
     ]
    },
    {
     "data": {
      "text/plain": [
       "['../outputs/debug/simple_mmaps_angle/angle-15.00.jpg',\n",
       " '../outputs/debug/simple_mmaps_angle/angle-14.67.jpg',\n",
       " '../outputs/debug/simple_mmaps_angle/angle-14.33.jpg',\n",
       " '../outputs/debug/simple_mmaps_angle/angle-14.00.jpg',\n",
       " '../outputs/debug/simple_mmaps_angle/angle-13.67.jpg',\n",
       " '../outputs/debug/simple_mmaps_angle/angle-13.33.jpg',\n",
       " '../outputs/debug/simple_mmaps_angle/angle-13.00.jpg',\n",
       " '../outputs/debug/simple_mmaps_angle/angle-12.67.jpg',\n",
       " '../outputs/debug/simple_mmaps_angle/angle-12.33.jpg',\n",
       " '../outputs/debug/simple_mmaps_angle/angle-12.00.jpg',\n",
       " '../outputs/debug/simple_mmaps_angle/angle-11.67.jpg',\n",
       " '../outputs/debug/simple_mmaps_angle/angle-11.33.jpg',\n",
       " '../outputs/debug/simple_mmaps_angle/angle-11.00.jpg',\n",
       " '../outputs/debug/simple_mmaps_angle/angle-10.67.jpg',\n",
       " '../outputs/debug/simple_mmaps_angle/angle-10.33.jpg',\n",
       " '../outputs/debug/simple_mmaps_angle/angle-10.00.jpg',\n",
       " '../outputs/debug/simple_mmaps_angle/angle-9.67.jpg',\n",
       " '../outputs/debug/simple_mmaps_angle/angle-9.33.jpg',\n",
       " '../outputs/debug/simple_mmaps_angle/angle-9.00.jpg',\n",
       " '../outputs/debug/simple_mmaps_angle/angle-8.67.jpg',\n",
       " '../outputs/debug/simple_mmaps_angle/angle-8.33.jpg',\n",
       " '../outputs/debug/simple_mmaps_angle/angle-8.00.jpg',\n",
       " '../outputs/debug/simple_mmaps_angle/angle-7.67.jpg',\n",
       " '../outputs/debug/simple_mmaps_angle/angle-7.33.jpg',\n",
       " '../outputs/debug/simple_mmaps_angle/angle-7.00.jpg',\n",
       " '../outputs/debug/simple_mmaps_angle/angle-6.67.jpg',\n",
       " '../outputs/debug/simple_mmaps_angle/angle-6.33.jpg',\n",
       " '../outputs/debug/simple_mmaps_angle/angle-6.00.jpg',\n",
       " '../outputs/debug/simple_mmaps_angle/angle-5.67.jpg',\n",
       " '../outputs/debug/simple_mmaps_angle/angle-5.33.jpg',\n",
       " '../outputs/debug/simple_mmaps_angle/angle-5.00.jpg',\n",
       " '../outputs/debug/simple_mmaps_angle/angle-4.67.jpg',\n",
       " '../outputs/debug/simple_mmaps_angle/angle-4.33.jpg',\n",
       " '../outputs/debug/simple_mmaps_angle/angle-4.00.jpg',\n",
       " '../outputs/debug/simple_mmaps_angle/angle-3.67.jpg',\n",
       " '../outputs/debug/simple_mmaps_angle/angle-3.33.jpg',\n",
       " '../outputs/debug/simple_mmaps_angle/angle-3.00.jpg',\n",
       " '../outputs/debug/simple_mmaps_angle/angle-2.67.jpg',\n",
       " '../outputs/debug/simple_mmaps_angle/angle-2.33.jpg',\n",
       " '../outputs/debug/simple_mmaps_angle/angle-2.00.jpg',\n",
       " '../outputs/debug/simple_mmaps_angle/angle-1.67.jpg',\n",
       " '../outputs/debug/simple_mmaps_angle/angle-1.33.jpg',\n",
       " '../outputs/debug/simple_mmaps_angle/angle-1.00.jpg',\n",
       " '../outputs/debug/simple_mmaps_angle/angle-0.67.jpg',\n",
       " '../outputs/debug/simple_mmaps_angle/angle-0.33.jpg',\n",
       " '../outputs/debug/simple_mmaps_angle/angle0.00.jpg',\n",
       " '../outputs/debug/simple_mmaps_angle/angle0.33.jpg',\n",
       " '../outputs/debug/simple_mmaps_angle/angle0.67.jpg',\n",
       " '../outputs/debug/simple_mmaps_angle/angle1.00.jpg',\n",
       " '../outputs/debug/simple_mmaps_angle/angle1.33.jpg',\n",
       " '../outputs/debug/simple_mmaps_angle/angle1.67.jpg',\n",
       " '../outputs/debug/simple_mmaps_angle/angle2.00.jpg',\n",
       " '../outputs/debug/simple_mmaps_angle/angle2.33.jpg',\n",
       " '../outputs/debug/simple_mmaps_angle/angle2.67.jpg',\n",
       " '../outputs/debug/simple_mmaps_angle/angle3.00.jpg',\n",
       " '../outputs/debug/simple_mmaps_angle/angle3.33.jpg',\n",
       " '../outputs/debug/simple_mmaps_angle/angle3.67.jpg',\n",
       " '../outputs/debug/simple_mmaps_angle/angle4.00.jpg',\n",
       " '../outputs/debug/simple_mmaps_angle/angle4.33.jpg',\n",
       " '../outputs/debug/simple_mmaps_angle/angle4.67.jpg',\n",
       " '../outputs/debug/simple_mmaps_angle/angle5.00.jpg',\n",
       " '../outputs/debug/simple_mmaps_angle/angle5.33.jpg',\n",
       " '../outputs/debug/simple_mmaps_angle/angle5.67.jpg',\n",
       " '../outputs/debug/simple_mmaps_angle/angle6.00.jpg',\n",
       " '../outputs/debug/simple_mmaps_angle/angle6.33.jpg',\n",
       " '../outputs/debug/simple_mmaps_angle/angle6.67.jpg',\n",
       " '../outputs/debug/simple_mmaps_angle/angle7.00.jpg',\n",
       " '../outputs/debug/simple_mmaps_angle/angle7.33.jpg',\n",
       " '../outputs/debug/simple_mmaps_angle/angle7.67.jpg',\n",
       " '../outputs/debug/simple_mmaps_angle/angle8.00.jpg',\n",
       " '../outputs/debug/simple_mmaps_angle/angle8.33.jpg',\n",
       " '../outputs/debug/simple_mmaps_angle/angle8.67.jpg',\n",
       " '../outputs/debug/simple_mmaps_angle/angle9.00.jpg',\n",
       " '../outputs/debug/simple_mmaps_angle/angle9.33.jpg',\n",
       " '../outputs/debug/simple_mmaps_angle/angle9.67.jpg',\n",
       " '../outputs/debug/simple_mmaps_angle/angle10.00.jpg',\n",
       " '../outputs/debug/simple_mmaps_angle/angle10.33.jpg',\n",
       " '../outputs/debug/simple_mmaps_angle/angle10.67.jpg',\n",
       " '../outputs/debug/simple_mmaps_angle/angle11.00.jpg',\n",
       " '../outputs/debug/simple_mmaps_angle/angle11.33.jpg',\n",
       " '../outputs/debug/simple_mmaps_angle/angle11.67.jpg',\n",
       " '../outputs/debug/simple_mmaps_angle/angle12.00.jpg',\n",
       " '../outputs/debug/simple_mmaps_angle/angle12.33.jpg',\n",
       " '../outputs/debug/simple_mmaps_angle/angle12.67.jpg',\n",
       " '../outputs/debug/simple_mmaps_angle/angle13.00.jpg',\n",
       " '../outputs/debug/simple_mmaps_angle/angle13.33.jpg',\n",
       " '../outputs/debug/simple_mmaps_angle/angle13.67.jpg',\n",
       " '../outputs/debug/simple_mmaps_angle/angle14.00.jpg',\n",
       " '../outputs/debug/simple_mmaps_angle/angle14.33.jpg',\n",
       " '../outputs/debug/simple_mmaps_angle/angle14.67.jpg']"
      ]
     },
     "execution_count": 1,
     "metadata": {},
     "output_type": "execute_result"
    }
   ],
   "source": [
    "import glob\n",
    "import re\n",
    "dirpath = '../outputs/debug/simple_mmaps_angle'\n",
    "imgs = glob.glob(dirpath + '/*.jpg')\n",
    "print(imgs)\n",
    "\n",
    "def extract_angle(fn):\n",
    "    num = re.search(r'\\-?([\\d]+)\\.(\\d*)', fn)\n",
    "    return float(num.group(0))\n",
    "\n",
    "sorted(imgs, key=extract_angle)"
   ]
  },
  {
   "cell_type": "markdown",
   "metadata": {},
   "source": [
    "# Simple conversion from images to mp4"
   ]
  },
  {
   "cell_type": "code",
   "execution_count": 11,
   "metadata": {},
   "outputs": [
    {
     "name": "stdout",
     "output_type": "stream",
     "text": [
      "Done\n"
     ]
    }
   ],
   "source": [
    "import glob\n",
    "import cv2 \n",
    "import os\n",
    "import sys\n",
    "\n",
    "def extract_idx(filepath, prefix):\n",
    "    filename = filepath.split('/')[::-1][0]\n",
    "    idx = filename.split(prefix + '_')[1].split('.png')[0]\n",
    "    return int(idx)\n",
    "\n",
    "dirpath = '/home/koizumilab/Desktop/mitsuba2/myscenes/outputs/invert_infloasion/sphere02'\n",
    "prefix = 'out'\n",
    "images = glob.glob(os.path.join(dirpath, prefix + '*.png'))\n",
    "images = sorted(images, key=lambda x: extract_idx(x, prefix))\n",
    "\n",
    "fourcc = cv2.VideoWriter_fourcc('m', 'p', '4', 'v')\n",
    "img0 = cv2.imread(images[0])\n",
    "video = cv2.VideoWriter(os.path.join(dirpath, prefix + '.mp4'), fourcc, 20.0, img0.shape[:2][::-1])\n",
    "\n",
    "if not video.isOpened():\n",
    "    print('Could not open the video.')\n",
    "    sys.exit()\n",
    "\n",
    "for i in images:\n",
    "    img = cv2.imread(i)\n",
    "    video.write(img)\n",
    "\n",
    "video.release()\n",
    "print('Done')"
   ]
  }
 ],
 "metadata": {
  "kernelspec": {
   "display_name": "Python 3",
   "language": "python",
   "name": "python3"
  },
  "language_info": {
   "codemirror_mode": {
    "name": "ipython",
    "version": 3
   },
   "file_extension": ".py",
   "mimetype": "text/x-python",
   "name": "python",
   "nbconvert_exporter": "python",
   "pygments_lexer": "ipython3",
   "version": "3.8.5"
  }
 },
 "nbformat": 4,
 "nbformat_minor": 4
}
