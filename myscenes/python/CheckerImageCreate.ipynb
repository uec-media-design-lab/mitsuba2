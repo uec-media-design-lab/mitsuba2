{
 "cells": [
  {
   "cell_type": "markdown",
   "metadata": {},
   "source": [
    "# Checker board"
   ]
  },
  {
   "cell_type": "code",
   "execution_count": 3,
   "metadata": {},
   "outputs": [
    {
     "name": "stdout",
     "output_type": "stream",
     "text": [
      "False\n",
      "True\n",
      "False\n",
      "True\n",
      "False\n",
      "True\n",
      "False\n",
      "True\n",
      "False\n",
      "True\n",
      "False\n",
      "True\n",
      "False\n",
      "True\n",
      "False\n",
      "True\n",
      "False\n",
      "True\n",
      "False\n",
      "True\n",
      "False\n",
      "True\n",
      "False\n",
      "True\n",
      "False\n"
     ]
    },
    {
     "data": {
      "text/plain": [
       "True"
      ]
     },
     "execution_count": 3,
     "metadata": {},
     "output_type": "execute_result"
    }
   ],
   "source": [
    "import numpy as np \n",
    "import cv2\n",
    "\n",
    "width = 512\n",
    "height = 512\n",
    "img_res = np.array([height, width], dtype=np.int32)\n",
    "grid = (5,5)\n",
    "\n",
    "img_data = np.zeros((height, width, 3))\n",
    "\n",
    "color1 = [0, 0, 255]\n",
    "color2 = [255, 255, 255]\n",
    "\n",
    "y_block_size = height/grid[0]\n",
    "x_block_size = width/grid[1]\n",
    "is_color1 = True\n",
    "for y in range(grid[0]):\n",
    "    for x in range(grid[1]):\n",
    "        color = color1 if is_color1 else color2\n",
    "        img_data[int(y_block_size*y):int(y_block_size*(y+1)), int(x_block_size*x):int(x_block_size*(x+1))][::-1] += color\n",
    "        is_color1 = not is_color1\n",
    "        print(is_color1)\n",
    "    if grid[1] % 2 == 0:\n",
    "        is_color1 = not is_color1\n",
    "\n",
    "cv2.imwrite('../img/checker.jpg', img_data)"
   ]
  },
  {
   "cell_type": "markdown",
   "metadata": {},
   "source": [
    "# Grid texture"
   ]
  },
  {
   "cell_type": "code",
   "execution_count": null,
   "metadata": {},
   "outputs": [],
   "source": [
    "import numpy as np \n",
    "import cv2\n",
    "\n",
    "width = 512\n",
    "height = 512\n",
    "img_res = np.array([height, width], dtype=np.int32)\n",
    "grid = (5,5)\n",
    "\n",
    "img_data = np.zeros((height, width, 3))\n",
    "\n",
    "color1 = [0, 0, 255]\n",
    "color2 = [255, 255, 255]\n",
    "\n",
    "y_grid_step = height/grid[0]\n",
    "x_grid_step = width/grid[1]\n",
    "grid_color = [0, 255, 0]\n",
    "for y in range(grid[0]):\n",
    "    img_data[int(y_block_size*y):int(y_block_size*(y+1)), int(x_block_size*x):int(x_block_size*(x+1))][::-1] += grid_color\n",
    "    \n",
    "cv2.imwrite('../img/checker.jpg', img_data)"
   ]
  }
 ],
 "metadata": {
  "kernelspec": {
   "display_name": "Python 3",
   "language": "python",
   "name": "python3"
  },
  "language_info": {
   "codemirror_mode": {
    "name": "ipython",
    "version": 3
   },
   "file_extension": ".py",
   "mimetype": "text/x-python",
   "name": "python",
   "nbconvert_exporter": "python",
   "pygments_lexer": "ipython3",
   "version": "3.8.5"
  }
 },
 "nbformat": 4,
 "nbformat_minor": 4
}
